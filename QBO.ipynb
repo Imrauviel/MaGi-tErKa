{
 "cells": [
  {
   "cell_type": "code",
   "outputs": [],
   "source": [
    "import pickle\n",
    "import warnings\n",
    "\n",
    "import numpy as np\n",
    "import pandas as pd\n",
    "\n",
    "from optimizers.qbo import QBO\n",
    "from solvers.settings import RffWeightedGPExperimentSetting\n",
    "\n",
    "warnings.filterwarnings('ignore')\n"
   ],
   "metadata": {
    "collapsed": false,
    "ExecuteTime": {
     "end_time": "2024-05-17T18:55:04.151220Z",
     "start_time": "2024-05-17T18:54:59.526080Z"
    }
   },
   "id": "db3777cc92540814",
   "execution_count": 1
  },
  {
   "cell_type": "code",
   "outputs": [],
   "source": [
    "def f_3(n):\n",
    "    dim1 = np.linspace(0, 1, n)\n",
    "    dim2 = np.linspace(0, 1, n)\n",
    "    dim3 = np.linspace(0, 1, n)\n",
    "\n",
    "    domain = []\n",
    "    for a in dim1:\n",
    "        for b in dim2:\n",
    "            for c in dim3:\n",
    "                domain.append([a, b, c])\n",
    "    domain = np.array(domain)\n",
    "    return domain\n",
    "\n",
    "\n",
    "sizes_3 = {\n",
    "    \"27\": f_3(3),\n",
    "    \"512\": f_3(8),\n",
    "    \"1000\": f_3(10),\n",
    "    \"8000\": f_3(20),\n",
    "    \"15625\": f_3(25),\n",
    "    \"27000\": f_3(30),\n",
    "    \"64000\": f_3(40),\n",
    "    \"125000\": f_3(50),\n",
    "\n",
    "}"
   ],
   "metadata": {
    "collapsed": false,
    "ExecuteTime": {
     "end_time": "2024-05-17T18:55:04.420857Z",
     "start_time": "2024-05-17T18:55:04.153227Z"
    }
   },
   "id": "b118e4a8726e1cdb",
   "execution_count": 2
  },
  {
   "cell_type": "code",
   "outputs": [],
   "source": [
    "def f_4(n):\n",
    "    dim1 = np.linspace(0, 1, n)\n",
    "    dim2 = np.linspace(0, 1, n)\n",
    "    dim3 = np.linspace(0, 1, n)\n",
    "    dim4 = np.linspace(0, 1, n)\n",
    "\n",
    "    domain = []\n",
    "    for a in dim1:\n",
    "        for b in dim2:\n",
    "            for c in dim3:\n",
    "                for d in dim4:\n",
    "                    domain.append([a, b, c, d])\n",
    "\n",
    "    domain = np.array(domain)\n",
    "    return domain\n",
    "\n",
    "\n",
    "sizes_4 = {\n",
    "    \"10000\": f_4(10),\n",
    "}"
   ],
   "metadata": {
    "collapsed": false,
    "ExecuteTime": {
     "end_time": "2024-05-17T18:55:04.435193Z",
     "start_time": "2024-05-17T18:55:04.421861Z"
    }
   },
   "id": "3eac1421eaccff15",
   "execution_count": 3
  },
  {
   "cell_type": "code",
   "outputs": [],
   "source": [
    "\n",
    "\n",
    "setting = RffWeightedGPExperimentSetting(\n",
    "    X_GRID=f_4(10),\n",
    "    INIT_POINTS=2,\n",
    ")\n",
    "\n",
    "optimizer = QBO(num_iter=15, estimate_function=\"quantum\", solver_instance=\"weighted_rff_pca\",\n",
    "                experiment_settings=setting)\n",
    "\n",
    "\n",
    "def f(w, x, y, z):\n",
    "    return np.sin(np.pi * w) + np.sin(np.pi * x) + np.sin(np.pi * y) + np.sin(np.pi * z)  # + x ** 2 + y ** 2 + z ** 2\n",
    "    # return x ** 2 + y ** 2 + z ** 2\n",
    "\n",
    "\n",
    "bounds = {'w': (0, 1),\n",
    "          'x': (0, 1),\n",
    "          'y': (0, 1),\n",
    "          'z': (0, 1)}\n",
    "\n",
    "# optimizer.find_maximum(f, bounds)"
   ],
   "metadata": {
    "collapsed": false,
    "ExecuteTime": {
     "end_time": "2024-05-17T18:55:04.450910Z",
     "start_time": "2024-05-17T18:55:04.437199Z"
    }
   },
   "id": "4ddfbdaeab1fde19",
   "execution_count": 4
  },
  {
   "cell_type": "code",
   "outputs": [],
   "source": [
    "# import numpy as np\n",
    "# \n",
    "# from solvers import RffWeightedGPSolver\n",
    "# \n",
    "# \n",
    "# class TSRffWeightedGPSolver2(RffWeightedGPSolver):\n",
    "#     def __init__(self, number_of_dim, samples, settings):\n",
    "#         super().__init__(number_of_dim, samples, settings)\n",
    "# \n",
    "#     def _cos(self, X):\n",
    "#         prior_mu, sigma_inv = self._get_prior(np.array(self.X), np.array(self.y))\n",
    "#         # print(\"A\", prior_mu.shape, sigma_inv.shape)\n",
    "#         try:\n",
    "#             prob = np.random.multivariate_normal(prior_mu.flatten(), sigma_inv)\n",
    "#         except np.linalg.LinAlgError:\n",
    "#             print(np.array(self.X), np.array(self.y), prior_mu, sigma_inv)\n",
    "#             prob = np.random.multivariate_normal(prior_mu.flatten(), sigma_inv + 1e-6 * np.eye(sigma_inv.shape[0]))\n",
    "#         phi = self._get_phi(X, weights=False)\n",
    "# \n",
    "#         mean = np.squeeze(phi @ prob)\n",
    "#         std = np.einsum('ij,jk,ki->i', phi, sigma_inv, phi.T)\n",
    "#         std = np.sqrt(self.lambda_ * std)\n",
    "#         return mean, std\n",
    "# \n",
    "#     def _fit(self):\n",
    "#         self.mu, self.std = self._cos(self.X_grid)\n",
    "# \n",
    "#     def best_point(self):\n",
    "#         id_max = np.argmax(self.mu)\n",
    "#         new_we = self.std[id_max] / np.sqrt(self.lambda_)\n",
    "#         self.weights = np.append(self.weights, new_we)\n",
    "#         return self.X_grid[id_max]\n"
   ],
   "metadata": {
    "collapsed": false,
    "ExecuteTime": {
     "end_time": "2024-05-17T18:55:11.487467Z",
     "start_time": "2024-05-17T18:55:11.483816Z"
    }
   },
   "id": "6b6d874c9b85da30",
   "execution_count": 5
  },
  {
   "cell_type": "code",
   "outputs": [],
   "source": [
    "def f_2(n):\n",
    "    dim1 = np.linspace(0, 1, n)\n",
    "    dim2 = np.linspace(0, 1, n)\n",
    "\n",
    "    domain = []\n",
    "    for a in dim1:\n",
    "        for b in dim2:\n",
    "            domain.append([a, b])\n",
    "    domain = np.array(domain)\n",
    "    return domain\n",
    "\n",
    "\n",
    "sizes_2 = {\n",
    "    \"25\": f_2(5),\n",
    "    \"625\": f_2(25),\n",
    "    \"2500\": f_2(50),\n",
    "    \"5625\": f_2(75),\n",
    "    \"10000\": f_2(100),\n",
    "    \"15625\": f_2(125),\n",
    "    \"22500\": f_2(150),\n",
    "    \"40000\": f_2(200),\n",
    "    \"62500\": f_2(250),\n",
    "    \"90000\": f_2(300),\n",
    "}"
   ],
   "metadata": {
    "collapsed": false,
    "ExecuteTime": {
     "end_time": "2024-05-17T18:55:13.357425Z",
     "start_time": "2024-05-17T18:55:12.844388Z"
    }
   },
   "id": "2e72c0aa2ac4b7a2",
   "execution_count": 6
  },
  {
   "cell_type": "code",
   "outputs": [],
   "source": [
    "from problems.example_problem import ExampleProblem\n",
    "from problems.example_problem_xgboost import ExampleProblemXGBoost\n",
    "\n",
    "problem_size = 2\n",
    "# example_problem = ExampleProblemXGBoost(problem_size)\n",
    "example_problem = ExampleProblem()"
   ],
   "metadata": {
    "collapsed": false,
    "ExecuteTime": {
     "end_time": "2024-05-17T18:55:13.779172Z",
     "start_time": "2024-05-17T18:55:13.769718Z"
    }
   },
   "id": "80c8d7581b6c72b8",
   "execution_count": 7
  },
  {
   "cell_type": "code",
   "outputs": [],
   "source": [
    "def get_rff_vectors(settings_rff, number_of_dim):\n",
    "    W = np.random.multivariate_normal(np.zeros(number_of_dim),\n",
    "                                      1 / (settings_rff.LS ** 2) * np.identity(number_of_dim), settings_rff.RFF_DIM)\n",
    "    b = np.random.uniform(0, 2 * np.pi, size=settings_rff.RFF_DIM)\n",
    "    settings_rff.RFF_W = W\n",
    "    settings_rff.RFF_B = b\n",
    "    return settings_rff"
   ],
   "metadata": {
    "collapsed": false,
    "ExecuteTime": {
     "end_time": "2024-05-17T18:55:14.604446Z",
     "start_time": "2024-05-17T18:55:14.599415Z"
    }
   },
   "id": "d70880c922970770",
   "execution_count": 8
  },
  {
   "cell_type": "code",
   "outputs": [],
   "source": [
    "\n"
   ],
   "metadata": {
    "collapsed": false,
    "ExecuteTime": {
     "end_time": "2024-05-17T18:55:14.983812Z",
     "start_time": "2024-05-17T18:55:14.980185Z"
    }
   },
   "id": "f9ff5c60f8a7e6ca",
   "execution_count": 9
  },
  {
   "cell_type": "code",
   "outputs": [],
   "source": [
    "problem_domains = {\n",
    "    2: {\n",
    "        \"625\": f_2(25),\n",
    "        \"10000\": f_2(100),\n",
    "        \"90000\": f_2(300),\n",
    "    },\n",
    "    3: {\n",
    "        \"512\": f_3(8),\n",
    "        \"15625\": f_3(25),\n",
    "        \"125000\": f_3(50),\n",
    "    },\n",
    "    4: {\n",
    "        \"625\": f_4(5),\n",
    "        \"10000\": f_4(10),\n",
    "        \"90000\": f_4(15),\n",
    "    }\n",
    "}"
   ],
   "metadata": {
    "collapsed": false,
    "ExecuteTime": {
     "end_time": "2024-05-18T14:59:19.130845Z",
     "start_time": "2024-05-18T14:59:18.169009Z"
    }
   },
   "id": "7993df3a0316de05",
   "execution_count": 14
  },
  {
   "cell_type": "code",
   "outputs": [],
   "source": [
    "num_iter = 2000\n",
    "total_runs = 1"
   ],
   "metadata": {
    "collapsed": false,
    "ExecuteTime": {
     "end_time": "2024-05-18T14:59:19.928952Z",
     "start_time": "2024-05-18T14:59:19.925293Z"
    }
   },
   "id": "344e7a9d4bafa330",
   "execution_count": 15
  },
  {
   "cell_type": "code",
   "outputs": [
    {
     "name": "stdout",
     "output_type": "stream",
     "text": [
      "2 625 weighted_rff\n"
     ]
    },
    {
     "name": "stderr",
     "output_type": "stream",
     "text": [
      "100%|██████████| 1999/1999 [19:54<00:00,  1.67it/s]\n",
      "1998it [06:00,  5.55it/s]                          \n"
     ]
    },
    {
     "name": "stdout",
     "output_type": "stream",
     "text": [
      "2 625 weighted_rff_ts\n"
     ]
    },
    {
     "name": "stderr",
     "output_type": "stream",
     "text": [
      "100%|██████████| 1999/1999 [20:13<00:00,  1.65it/s]\n",
      "1998it [05:44,  5.80it/s]                          \n"
     ]
    },
    {
     "name": "stdout",
     "output_type": "stream",
     "text": [
      "2 625 weighted_rff_pca\n"
     ]
    },
    {
     "name": "stderr",
     "output_type": "stream",
     "text": [
      "100%|██████████| 1999/1999 [19:04<00:00,  1.75it/s]\n",
      "1998it [05:23,  6.17it/s]                          \n"
     ]
    },
    {
     "name": "stdout",
     "output_type": "stream",
     "text": [
      "2 625 weighted_rff_ts_pca\n",
      "HERE\n"
     ]
    },
    {
     "name": "stderr",
     "output_type": "stream",
     "text": [
      "100%|██████████| 1999/1999 [19:56<00:00,  1.67it/s]\n"
     ]
    },
    {
     "name": "stdout",
     "output_type": "stream",
     "text": [
      "HERE\n"
     ]
    },
    {
     "name": "stderr",
     "output_type": "stream",
     "text": [
      "1998it [05:30,  6.05it/s]                          \n"
     ]
    },
    {
     "name": "stdout",
     "output_type": "stream",
     "text": [
      "2 625 ucb\n"
     ]
    },
    {
     "name": "stderr",
     "output_type": "stream",
     "text": [
      " 56%|█████▌    | 1120/1999 [47:14<1:53:54,  7.78s/it]"
     ]
    },
    {
     "ename": "KeyboardInterrupt",
     "evalue": "",
     "output_type": "error",
     "traceback": [
      "\u001B[1;31m---------------------------------------------------------------------------\u001B[0m",
      "\u001B[1;31mKeyboardInterrupt\u001B[0m                         Traceback (most recent call last)",
      "Cell \u001B[1;32mIn[17], line 21\u001B[0m\n\u001B[0;32m     17\u001B[0m file_name \u001B[38;5;241m=\u001B[39m \u001B[38;5;124mf\u001B[39m\u001B[38;5;124m\"\u001B[39m\u001B[38;5;124mresults/\u001B[39m\u001B[38;5;132;01m{\u001B[39;00msolver\u001B[38;5;132;01m}\u001B[39;00m\u001B[38;5;124m_\u001B[39m\u001B[38;5;132;01m{\u001B[39;00mproblem_size\u001B[38;5;132;01m}\u001B[39;00m\u001B[38;5;124m_\u001B[39m\u001B[38;5;132;01m{\u001B[39;00mestimate_function\u001B[38;5;132;01m}\u001B[39;00m\u001B[38;5;124m_\u001B[39m\u001B[38;5;132;01m{\u001B[39;00mi\u001B[38;5;132;01m}\u001B[39;00m\u001B[38;5;124m_\u001B[39m\u001B[38;5;132;01m{\u001B[39;00mpd\u001B[38;5;241m.\u001B[39mTimestamp\u001B[38;5;241m.\u001B[39mnow()\u001B[38;5;241m.\u001B[39mdate()\u001B[38;5;132;01m}\u001B[39;00m\u001B[38;5;124m.pkl\u001B[39m\u001B[38;5;124m\"\u001B[39m\n\u001B[0;32m     19\u001B[0m optimizer \u001B[38;5;241m=\u001B[39m QBO(num_iter\u001B[38;5;241m=\u001B[39mnum_iter, estimate_function\u001B[38;5;241m=\u001B[39mestimate_function, solver_instance\u001B[38;5;241m=\u001B[39msolver,\n\u001B[0;32m     20\u001B[0m                     experiment_settings\u001B[38;5;241m=\u001B[39msettings, )\n\u001B[1;32m---> 21\u001B[0m optimizer\u001B[38;5;241m.\u001B[39mfind_maximum(example_problem\u001B[38;5;241m.\u001B[39mreward_function, example_problem\u001B[38;5;241m.\u001B[39mget_bounds())\n\u001B[0;32m     22\u001B[0m results \u001B[38;5;241m=\u001B[39m {\n\u001B[0;32m     23\u001B[0m         \u001B[38;5;124m'\u001B[39m\u001B[38;5;124mpredicted_values\u001B[39m\u001B[38;5;124m'\u001B[39m: optimizer\u001B[38;5;241m.\u001B[39mresults[\u001B[38;5;124m'\u001B[39m\u001B[38;5;124mhistory\u001B[39m\u001B[38;5;124m'\u001B[39m][\u001B[38;5;124m'\u001B[39m\u001B[38;5;124mpredicted_values\u001B[39m\u001B[38;5;124m'\u001B[39m],\n\u001B[0;32m     24\u001B[0m         \u001B[38;5;124m'\u001B[39m\u001B[38;5;124mcalls\u001B[39m\u001B[38;5;124m'\u001B[39m: optimizer\u001B[38;5;241m.\u001B[39mhistory_quantum,\n\u001B[1;32m   (...)\u001B[0m\n\u001B[0;32m     29\u001B[0m         \u001B[38;5;124m'\u001B[39m\u001B[38;5;124mproblem\u001B[39m\u001B[38;5;124m'\u001B[39m: optimizer\u001B[38;5;241m.\u001B[39msolver\u001B[38;5;241m.\u001B[39mproblem,\n\u001B[0;32m     30\u001B[0m     }\n\u001B[0;32m     31\u001B[0m \u001B[38;5;28;01mwith\u001B[39;00m \u001B[38;5;28mopen\u001B[39m(file_name, \u001B[38;5;124m'\u001B[39m\u001B[38;5;124mwb\u001B[39m\u001B[38;5;124m'\u001B[39m) \u001B[38;5;28;01mas\u001B[39;00m handle:\n",
      "File \u001B[1;32m~\\PycharmProjects\\magisterka\\optimizers\\qbo.py:132\u001B[0m, in \u001B[0;36mQBO.find_maximum\u001B[1;34m(self, function_to_optimize, parameters_bounds)\u001B[0m\n\u001B[0;32m    130\u001B[0m     \u001B[38;5;28mself\u001B[39m\u001B[38;5;241m.\u001B[39mresults[\u001B[38;5;124m'\u001B[39m\u001B[38;5;124mbest\u001B[39m\u001B[38;5;124m'\u001B[39m][\u001B[38;5;124m'\u001B[39m\u001B[38;5;124mmax_parameters\u001B[39m\u001B[38;5;124m'\u001B[39m] \u001B[38;5;241m=\u001B[39m new_point\n\u001B[0;32m    131\u001B[0m     \u001B[38;5;28mself\u001B[39m\u001B[38;5;241m.\u001B[39mresults[\u001B[38;5;124m'\u001B[39m\u001B[38;5;124mbest\u001B[39m\u001B[38;5;124m'\u001B[39m][\u001B[38;5;124m'\u001B[39m\u001B[38;5;124mmax_predicted_value\u001B[39m\u001B[38;5;124m'\u001B[39m] \u001B[38;5;241m=\u001B[39m output\n\u001B[1;32m--> 132\u001B[0m \u001B[38;5;28mself\u001B[39m\u001B[38;5;241m.\u001B[39msolver\u001B[38;5;241m.\u001B[39mfit()\n\u001B[0;32m    133\u001B[0m progress_increment \u001B[38;5;241m=\u001B[39m \u001B[38;5;28mself\u001B[39m\u001B[38;5;241m.\u001B[39mtotal_calls \u001B[38;5;241m-\u001B[39m current_calls\n\u001B[0;32m    134\u001B[0m pbar\u001B[38;5;241m.\u001B[39mupdate(progress_increment)\n",
      "File \u001B[1;32m~\\PycharmProjects\\magisterka\\solvers\\solver.py:27\u001B[0m, in \u001B[0;36mSolver.fit\u001B[1;34m(self)\u001B[0m\n\u001B[0;32m     25\u001B[0m \u001B[38;5;28;01mdef\u001B[39;00m \u001B[38;5;21mfit\u001B[39m(\u001B[38;5;28mself\u001B[39m):\n\u001B[0;32m     26\u001B[0m     start_time \u001B[38;5;241m=\u001B[39m time\u001B[38;5;241m.\u001B[39mtime()\n\u001B[1;32m---> 27\u001B[0m     \u001B[38;5;28mself\u001B[39m\u001B[38;5;241m.\u001B[39m_fit()\n\u001B[0;32m     28\u001B[0m     \u001B[38;5;28mself\u001B[39m\u001B[38;5;241m.\u001B[39mfit_time_history\u001B[38;5;241m.\u001B[39mappend(time\u001B[38;5;241m.\u001B[39mtime() \u001B[38;5;241m-\u001B[39m start_time)\n",
      "File \u001B[1;32m~\\PycharmProjects\\magisterka\\solvers\\ucb_gp_solver.py:26\u001B[0m, in \u001B[0;36mUcbGPSolver._fit\u001B[1;34m(self)\u001B[0m\n\u001B[0;32m     25\u001B[0m \u001B[38;5;28;01mdef\u001B[39;00m \u001B[38;5;21m_fit\u001B[39m(\u001B[38;5;28mself\u001B[39m):\n\u001B[1;32m---> 26\u001B[0m     \u001B[38;5;28mself\u001B[39m\u001B[38;5;241m.\u001B[39mfit_gp(\u001B[38;5;28mself\u001B[39m\u001B[38;5;241m.\u001B[39mX, \u001B[38;5;28mself\u001B[39m\u001B[38;5;241m.\u001B[39my)\n\u001B[0;32m     27\u001B[0m     \u001B[38;5;28mself\u001B[39m\u001B[38;5;241m.\u001B[39mmu, \u001B[38;5;28mself\u001B[39m\u001B[38;5;241m.\u001B[39msigma \u001B[38;5;241m=\u001B[39m \u001B[38;5;28mself\u001B[39m\u001B[38;5;241m.\u001B[39mgp\u001B[38;5;241m.\u001B[39mpredict(\u001B[38;5;28mself\u001B[39m\u001B[38;5;241m.\u001B[39mX_grid, return_std\u001B[38;5;241m=\u001B[39m\u001B[38;5;28;01mTrue\u001B[39;00m)\n",
      "File \u001B[1;32m~\\PycharmProjects\\magisterka\\solvers\\ucb_gp_solver.py:23\u001B[0m, in \u001B[0;36mUcbGPSolver.fit_gp\u001B[1;34m(self, X, y)\u001B[0m\n\u001B[0;32m     18\u001B[0m k_scaling \u001B[38;5;241m=\u001B[39m kernels\u001B[38;5;241m.\u001B[39mConstantKernel(\u001B[38;5;241m1\u001B[39m, (\u001B[38;5;241m0.1\u001B[39m, \u001B[38;5;241m10\u001B[39m))\n\u001B[0;32m     19\u001B[0m k_noise \u001B[38;5;241m=\u001B[39m kernels\u001B[38;5;241m.\u001B[39mWhiteKernel(noise_level\u001B[38;5;241m=\u001B[39mnp\u001B[38;5;241m.\u001B[39mptp(y) \u001B[38;5;241m/\u001B[39m \u001B[38;5;241m10\u001B[39m, noise_level_bounds\u001B[38;5;241m=\u001B[39m(\u001B[38;5;241m1e-6\u001B[39m, \u001B[38;5;241m1e-3\u001B[39m))\n\u001B[0;32m     20\u001B[0m \u001B[38;5;28mself\u001B[39m\u001B[38;5;241m.\u001B[39mgp \u001B[38;5;241m=\u001B[39m GaussianProcessRegressor(\n\u001B[0;32m     21\u001B[0m     kernel\u001B[38;5;241m=\u001B[39mk_scaling \u001B[38;5;241m*\u001B[39m k_cov \u001B[38;5;241m+\u001B[39m k_noise,\n\u001B[0;32m     22\u001B[0m     random_state\u001B[38;5;241m=\u001B[39m\u001B[38;5;241m0\u001B[39m\n\u001B[1;32m---> 23\u001B[0m )\u001B[38;5;241m.\u001B[39mfit(X, y)\n",
      "File \u001B[1;32m~\\miniconda3\\envs\\magisterka\\Lib\\site-packages\\sklearn\\base.py:1474\u001B[0m, in \u001B[0;36m_fit_context.<locals>.decorator.<locals>.wrapper\u001B[1;34m(estimator, *args, **kwargs)\u001B[0m\n\u001B[0;32m   1467\u001B[0m     estimator\u001B[38;5;241m.\u001B[39m_validate_params()\n\u001B[0;32m   1469\u001B[0m \u001B[38;5;28;01mwith\u001B[39;00m config_context(\n\u001B[0;32m   1470\u001B[0m     skip_parameter_validation\u001B[38;5;241m=\u001B[39m(\n\u001B[0;32m   1471\u001B[0m         prefer_skip_nested_validation \u001B[38;5;129;01mor\u001B[39;00m global_skip_validation\n\u001B[0;32m   1472\u001B[0m     )\n\u001B[0;32m   1473\u001B[0m ):\n\u001B[1;32m-> 1474\u001B[0m     \u001B[38;5;28;01mreturn\u001B[39;00m fit_method(estimator, \u001B[38;5;241m*\u001B[39margs, \u001B[38;5;241m*\u001B[39m\u001B[38;5;241m*\u001B[39mkwargs)\n",
      "File \u001B[1;32m~\\miniconda3\\envs\\magisterka\\Lib\\site-packages\\sklearn\\gaussian_process\\_gpr.py:307\u001B[0m, in \u001B[0;36mGaussianProcessRegressor.fit\u001B[1;34m(self, X, y)\u001B[0m\n\u001B[0;32m    302\u001B[0m         \u001B[38;5;28;01mreturn\u001B[39;00m \u001B[38;5;241m-\u001B[39m\u001B[38;5;28mself\u001B[39m\u001B[38;5;241m.\u001B[39mlog_marginal_likelihood(theta, clone_kernel\u001B[38;5;241m=\u001B[39m\u001B[38;5;28;01mFalse\u001B[39;00m)\n\u001B[0;32m    304\u001B[0m \u001B[38;5;66;03m# First optimize starting from theta specified in kernel\u001B[39;00m\n\u001B[0;32m    305\u001B[0m optima \u001B[38;5;241m=\u001B[39m [\n\u001B[0;32m    306\u001B[0m     (\n\u001B[1;32m--> 307\u001B[0m         \u001B[38;5;28mself\u001B[39m\u001B[38;5;241m.\u001B[39m_constrained_optimization(\n\u001B[0;32m    308\u001B[0m             obj_func, \u001B[38;5;28mself\u001B[39m\u001B[38;5;241m.\u001B[39mkernel_\u001B[38;5;241m.\u001B[39mtheta, \u001B[38;5;28mself\u001B[39m\u001B[38;5;241m.\u001B[39mkernel_\u001B[38;5;241m.\u001B[39mbounds\n\u001B[0;32m    309\u001B[0m         )\n\u001B[0;32m    310\u001B[0m     )\n\u001B[0;32m    311\u001B[0m ]\n\u001B[0;32m    313\u001B[0m \u001B[38;5;66;03m# Additional runs are performed from log-uniform chosen initial\u001B[39;00m\n\u001B[0;32m    314\u001B[0m \u001B[38;5;66;03m# theta\u001B[39;00m\n\u001B[0;32m    315\u001B[0m \u001B[38;5;28;01mif\u001B[39;00m \u001B[38;5;28mself\u001B[39m\u001B[38;5;241m.\u001B[39mn_restarts_optimizer \u001B[38;5;241m>\u001B[39m \u001B[38;5;241m0\u001B[39m:\n",
      "File \u001B[1;32m~\\miniconda3\\envs\\magisterka\\Lib\\site-packages\\sklearn\\gaussian_process\\_gpr.py:656\u001B[0m, in \u001B[0;36mGaussianProcessRegressor._constrained_optimization\u001B[1;34m(self, obj_func, initial_theta, bounds)\u001B[0m\n\u001B[0;32m    654\u001B[0m \u001B[38;5;28;01mdef\u001B[39;00m \u001B[38;5;21m_constrained_optimization\u001B[39m(\u001B[38;5;28mself\u001B[39m, obj_func, initial_theta, bounds):\n\u001B[0;32m    655\u001B[0m     \u001B[38;5;28;01mif\u001B[39;00m \u001B[38;5;28mself\u001B[39m\u001B[38;5;241m.\u001B[39moptimizer \u001B[38;5;241m==\u001B[39m \u001B[38;5;124m\"\u001B[39m\u001B[38;5;124mfmin_l_bfgs_b\u001B[39m\u001B[38;5;124m\"\u001B[39m:\n\u001B[1;32m--> 656\u001B[0m         opt_res \u001B[38;5;241m=\u001B[39m scipy\u001B[38;5;241m.\u001B[39moptimize\u001B[38;5;241m.\u001B[39mminimize(\n\u001B[0;32m    657\u001B[0m             obj_func,\n\u001B[0;32m    658\u001B[0m             initial_theta,\n\u001B[0;32m    659\u001B[0m             method\u001B[38;5;241m=\u001B[39m\u001B[38;5;124m\"\u001B[39m\u001B[38;5;124mL-BFGS-B\u001B[39m\u001B[38;5;124m\"\u001B[39m,\n\u001B[0;32m    660\u001B[0m             jac\u001B[38;5;241m=\u001B[39m\u001B[38;5;28;01mTrue\u001B[39;00m,\n\u001B[0;32m    661\u001B[0m             bounds\u001B[38;5;241m=\u001B[39mbounds,\n\u001B[0;32m    662\u001B[0m         )\n\u001B[0;32m    663\u001B[0m         _check_optimize_result(\u001B[38;5;124m\"\u001B[39m\u001B[38;5;124mlbfgs\u001B[39m\u001B[38;5;124m\"\u001B[39m, opt_res)\n\u001B[0;32m    664\u001B[0m         theta_opt, func_min \u001B[38;5;241m=\u001B[39m opt_res\u001B[38;5;241m.\u001B[39mx, opt_res\u001B[38;5;241m.\u001B[39mfun\n",
      "File \u001B[1;32m~\\miniconda3\\envs\\magisterka\\Lib\\site-packages\\scipy\\optimize\\_minimize.py:713\u001B[0m, in \u001B[0;36mminimize\u001B[1;34m(fun, x0, args, method, jac, hess, hessp, bounds, constraints, tol, callback, options)\u001B[0m\n\u001B[0;32m    710\u001B[0m     res \u001B[38;5;241m=\u001B[39m _minimize_newtoncg(fun, x0, args, jac, hess, hessp, callback,\n\u001B[0;32m    711\u001B[0m                              \u001B[38;5;241m*\u001B[39m\u001B[38;5;241m*\u001B[39moptions)\n\u001B[0;32m    712\u001B[0m \u001B[38;5;28;01melif\u001B[39;00m meth \u001B[38;5;241m==\u001B[39m \u001B[38;5;124m'\u001B[39m\u001B[38;5;124ml-bfgs-b\u001B[39m\u001B[38;5;124m'\u001B[39m:\n\u001B[1;32m--> 713\u001B[0m     res \u001B[38;5;241m=\u001B[39m _minimize_lbfgsb(fun, x0, args, jac, bounds,\n\u001B[0;32m    714\u001B[0m                            callback\u001B[38;5;241m=\u001B[39mcallback, \u001B[38;5;241m*\u001B[39m\u001B[38;5;241m*\u001B[39moptions)\n\u001B[0;32m    715\u001B[0m \u001B[38;5;28;01melif\u001B[39;00m meth \u001B[38;5;241m==\u001B[39m \u001B[38;5;124m'\u001B[39m\u001B[38;5;124mtnc\u001B[39m\u001B[38;5;124m'\u001B[39m:\n\u001B[0;32m    716\u001B[0m     res \u001B[38;5;241m=\u001B[39m _minimize_tnc(fun, x0, args, jac, bounds, callback\u001B[38;5;241m=\u001B[39mcallback,\n\u001B[0;32m    717\u001B[0m                         \u001B[38;5;241m*\u001B[39m\u001B[38;5;241m*\u001B[39moptions)\n",
      "File \u001B[1;32m~\\miniconda3\\envs\\magisterka\\Lib\\site-packages\\scipy\\optimize\\_lbfgsb_py.py:369\u001B[0m, in \u001B[0;36m_minimize_lbfgsb\u001B[1;34m(fun, x0, args, jac, bounds, disp, maxcor, ftol, gtol, eps, maxfun, maxiter, iprint, callback, maxls, finite_diff_rel_step, **unknown_options)\u001B[0m\n\u001B[0;32m    363\u001B[0m task_str \u001B[38;5;241m=\u001B[39m task\u001B[38;5;241m.\u001B[39mtobytes()\n\u001B[0;32m    364\u001B[0m \u001B[38;5;28;01mif\u001B[39;00m task_str\u001B[38;5;241m.\u001B[39mstartswith(\u001B[38;5;124mb\u001B[39m\u001B[38;5;124m'\u001B[39m\u001B[38;5;124mFG\u001B[39m\u001B[38;5;124m'\u001B[39m):\n\u001B[0;32m    365\u001B[0m     \u001B[38;5;66;03m# The minimization routine wants f and g at the current x.\u001B[39;00m\n\u001B[0;32m    366\u001B[0m     \u001B[38;5;66;03m# Note that interruptions due to maxfun are postponed\u001B[39;00m\n\u001B[0;32m    367\u001B[0m     \u001B[38;5;66;03m# until the completion of the current minimization iteration.\u001B[39;00m\n\u001B[0;32m    368\u001B[0m     \u001B[38;5;66;03m# Overwrite f and g:\u001B[39;00m\n\u001B[1;32m--> 369\u001B[0m     f, g \u001B[38;5;241m=\u001B[39m func_and_grad(x)\n\u001B[0;32m    370\u001B[0m \u001B[38;5;28;01melif\u001B[39;00m task_str\u001B[38;5;241m.\u001B[39mstartswith(\u001B[38;5;124mb\u001B[39m\u001B[38;5;124m'\u001B[39m\u001B[38;5;124mNEW_X\u001B[39m\u001B[38;5;124m'\u001B[39m):\n\u001B[0;32m    371\u001B[0m     \u001B[38;5;66;03m# new iteration\u001B[39;00m\n\u001B[0;32m    372\u001B[0m     n_iterations \u001B[38;5;241m+\u001B[39m\u001B[38;5;241m=\u001B[39m \u001B[38;5;241m1\u001B[39m\n",
      "File \u001B[1;32m~\\miniconda3\\envs\\magisterka\\Lib\\site-packages\\scipy\\optimize\\_differentiable_functions.py:296\u001B[0m, in \u001B[0;36mScalarFunction.fun_and_grad\u001B[1;34m(self, x)\u001B[0m\n\u001B[0;32m    294\u001B[0m \u001B[38;5;28;01mif\u001B[39;00m \u001B[38;5;129;01mnot\u001B[39;00m np\u001B[38;5;241m.\u001B[39marray_equal(x, \u001B[38;5;28mself\u001B[39m\u001B[38;5;241m.\u001B[39mx):\n\u001B[0;32m    295\u001B[0m     \u001B[38;5;28mself\u001B[39m\u001B[38;5;241m.\u001B[39m_update_x_impl(x)\n\u001B[1;32m--> 296\u001B[0m \u001B[38;5;28mself\u001B[39m\u001B[38;5;241m.\u001B[39m_update_fun()\n\u001B[0;32m    297\u001B[0m \u001B[38;5;28mself\u001B[39m\u001B[38;5;241m.\u001B[39m_update_grad()\n\u001B[0;32m    298\u001B[0m \u001B[38;5;28;01mreturn\u001B[39;00m \u001B[38;5;28mself\u001B[39m\u001B[38;5;241m.\u001B[39mf, \u001B[38;5;28mself\u001B[39m\u001B[38;5;241m.\u001B[39mg\n",
      "File \u001B[1;32m~\\miniconda3\\envs\\magisterka\\Lib\\site-packages\\scipy\\optimize\\_differentiable_functions.py:262\u001B[0m, in \u001B[0;36mScalarFunction._update_fun\u001B[1;34m(self)\u001B[0m\n\u001B[0;32m    260\u001B[0m \u001B[38;5;28;01mdef\u001B[39;00m \u001B[38;5;21m_update_fun\u001B[39m(\u001B[38;5;28mself\u001B[39m):\n\u001B[0;32m    261\u001B[0m     \u001B[38;5;28;01mif\u001B[39;00m \u001B[38;5;129;01mnot\u001B[39;00m \u001B[38;5;28mself\u001B[39m\u001B[38;5;241m.\u001B[39mf_updated:\n\u001B[1;32m--> 262\u001B[0m         \u001B[38;5;28mself\u001B[39m\u001B[38;5;241m.\u001B[39m_update_fun_impl()\n\u001B[0;32m    263\u001B[0m         \u001B[38;5;28mself\u001B[39m\u001B[38;5;241m.\u001B[39mf_updated \u001B[38;5;241m=\u001B[39m \u001B[38;5;28;01mTrue\u001B[39;00m\n",
      "File \u001B[1;32m~\\miniconda3\\envs\\magisterka\\Lib\\site-packages\\scipy\\optimize\\_differentiable_functions.py:163\u001B[0m, in \u001B[0;36mScalarFunction.__init__.<locals>.update_fun\u001B[1;34m()\u001B[0m\n\u001B[0;32m    162\u001B[0m \u001B[38;5;28;01mdef\u001B[39;00m \u001B[38;5;21mupdate_fun\u001B[39m():\n\u001B[1;32m--> 163\u001B[0m     \u001B[38;5;28mself\u001B[39m\u001B[38;5;241m.\u001B[39mf \u001B[38;5;241m=\u001B[39m fun_wrapped(\u001B[38;5;28mself\u001B[39m\u001B[38;5;241m.\u001B[39mx)\n",
      "File \u001B[1;32m~\\miniconda3\\envs\\magisterka\\Lib\\site-packages\\scipy\\optimize\\_differentiable_functions.py:145\u001B[0m, in \u001B[0;36mScalarFunction.__init__.<locals>.fun_wrapped\u001B[1;34m(x)\u001B[0m\n\u001B[0;32m    141\u001B[0m \u001B[38;5;28mself\u001B[39m\u001B[38;5;241m.\u001B[39mnfev \u001B[38;5;241m+\u001B[39m\u001B[38;5;241m=\u001B[39m \u001B[38;5;241m1\u001B[39m\n\u001B[0;32m    142\u001B[0m \u001B[38;5;66;03m# Send a copy because the user may overwrite it.\u001B[39;00m\n\u001B[0;32m    143\u001B[0m \u001B[38;5;66;03m# Overwriting results in undefined behaviour because\u001B[39;00m\n\u001B[0;32m    144\u001B[0m \u001B[38;5;66;03m# fun(self.x) will change self.x, with the two no longer linked.\u001B[39;00m\n\u001B[1;32m--> 145\u001B[0m fx \u001B[38;5;241m=\u001B[39m fun(np\u001B[38;5;241m.\u001B[39mcopy(x), \u001B[38;5;241m*\u001B[39margs)\n\u001B[0;32m    146\u001B[0m \u001B[38;5;66;03m# Make sure the function returns a true scalar\u001B[39;00m\n\u001B[0;32m    147\u001B[0m \u001B[38;5;28;01mif\u001B[39;00m \u001B[38;5;129;01mnot\u001B[39;00m np\u001B[38;5;241m.\u001B[39misscalar(fx):\n",
      "File \u001B[1;32m~\\miniconda3\\envs\\magisterka\\Lib\\site-packages\\scipy\\optimize\\_optimize.py:78\u001B[0m, in \u001B[0;36mMemoizeJac.__call__\u001B[1;34m(self, x, *args)\u001B[0m\n\u001B[0;32m     76\u001B[0m \u001B[38;5;28;01mdef\u001B[39;00m \u001B[38;5;21m__call__\u001B[39m(\u001B[38;5;28mself\u001B[39m, x, \u001B[38;5;241m*\u001B[39margs):\n\u001B[0;32m     77\u001B[0m \u001B[38;5;250m    \u001B[39m\u001B[38;5;124;03m\"\"\" returns the function value \"\"\"\u001B[39;00m\n\u001B[1;32m---> 78\u001B[0m     \u001B[38;5;28mself\u001B[39m\u001B[38;5;241m.\u001B[39m_compute_if_needed(x, \u001B[38;5;241m*\u001B[39margs)\n\u001B[0;32m     79\u001B[0m     \u001B[38;5;28;01mreturn\u001B[39;00m \u001B[38;5;28mself\u001B[39m\u001B[38;5;241m.\u001B[39m_value\n",
      "File \u001B[1;32m~\\miniconda3\\envs\\magisterka\\Lib\\site-packages\\scipy\\optimize\\_optimize.py:72\u001B[0m, in \u001B[0;36mMemoizeJac._compute_if_needed\u001B[1;34m(self, x, *args)\u001B[0m\n\u001B[0;32m     70\u001B[0m \u001B[38;5;28;01mif\u001B[39;00m \u001B[38;5;129;01mnot\u001B[39;00m np\u001B[38;5;241m.\u001B[39mall(x \u001B[38;5;241m==\u001B[39m \u001B[38;5;28mself\u001B[39m\u001B[38;5;241m.\u001B[39mx) \u001B[38;5;129;01mor\u001B[39;00m \u001B[38;5;28mself\u001B[39m\u001B[38;5;241m.\u001B[39m_value \u001B[38;5;129;01mis\u001B[39;00m \u001B[38;5;28;01mNone\u001B[39;00m \u001B[38;5;129;01mor\u001B[39;00m \u001B[38;5;28mself\u001B[39m\u001B[38;5;241m.\u001B[39mjac \u001B[38;5;129;01mis\u001B[39;00m \u001B[38;5;28;01mNone\u001B[39;00m:\n\u001B[0;32m     71\u001B[0m     \u001B[38;5;28mself\u001B[39m\u001B[38;5;241m.\u001B[39mx \u001B[38;5;241m=\u001B[39m np\u001B[38;5;241m.\u001B[39masarray(x)\u001B[38;5;241m.\u001B[39mcopy()\n\u001B[1;32m---> 72\u001B[0m     fg \u001B[38;5;241m=\u001B[39m \u001B[38;5;28mself\u001B[39m\u001B[38;5;241m.\u001B[39mfun(x, \u001B[38;5;241m*\u001B[39margs)\n\u001B[0;32m     73\u001B[0m     \u001B[38;5;28mself\u001B[39m\u001B[38;5;241m.\u001B[39mjac \u001B[38;5;241m=\u001B[39m fg[\u001B[38;5;241m1\u001B[39m]\n\u001B[0;32m     74\u001B[0m     \u001B[38;5;28mself\u001B[39m\u001B[38;5;241m.\u001B[39m_value \u001B[38;5;241m=\u001B[39m fg[\u001B[38;5;241m0\u001B[39m]\n",
      "File \u001B[1;32m~\\miniconda3\\envs\\magisterka\\Lib\\site-packages\\sklearn\\gaussian_process\\_gpr.py:297\u001B[0m, in \u001B[0;36mGaussianProcessRegressor.fit.<locals>.obj_func\u001B[1;34m(theta, eval_gradient)\u001B[0m\n\u001B[0;32m    295\u001B[0m \u001B[38;5;28;01mdef\u001B[39;00m \u001B[38;5;21mobj_func\u001B[39m(theta, eval_gradient\u001B[38;5;241m=\u001B[39m\u001B[38;5;28;01mTrue\u001B[39;00m):\n\u001B[0;32m    296\u001B[0m     \u001B[38;5;28;01mif\u001B[39;00m eval_gradient:\n\u001B[1;32m--> 297\u001B[0m         lml, grad \u001B[38;5;241m=\u001B[39m \u001B[38;5;28mself\u001B[39m\u001B[38;5;241m.\u001B[39mlog_marginal_likelihood(\n\u001B[0;32m    298\u001B[0m             theta, eval_gradient\u001B[38;5;241m=\u001B[39m\u001B[38;5;28;01mTrue\u001B[39;00m, clone_kernel\u001B[38;5;241m=\u001B[39m\u001B[38;5;28;01mFalse\u001B[39;00m\n\u001B[0;32m    299\u001B[0m         )\n\u001B[0;32m    300\u001B[0m         \u001B[38;5;28;01mreturn\u001B[39;00m \u001B[38;5;241m-\u001B[39mlml, \u001B[38;5;241m-\u001B[39mgrad\n\u001B[0;32m    301\u001B[0m     \u001B[38;5;28;01melse\u001B[39;00m:\n",
      "File \u001B[1;32m~\\miniconda3\\envs\\magisterka\\Lib\\site-packages\\sklearn\\gaussian_process\\_gpr.py:643\u001B[0m, in \u001B[0;36mGaussianProcessRegressor.log_marginal_likelihood\u001B[1;34m(self, theta, eval_gradient, clone_kernel)\u001B[0m\n\u001B[0;32m    632\u001B[0m inner_term \u001B[38;5;241m-\u001B[39m\u001B[38;5;241m=\u001B[39m K_inv[\u001B[38;5;241m.\u001B[39m\u001B[38;5;241m.\u001B[39m\u001B[38;5;241m.\u001B[39m, np\u001B[38;5;241m.\u001B[39mnewaxis]\n\u001B[0;32m    633\u001B[0m \u001B[38;5;66;03m# Since we are interested about the trace of\u001B[39;00m\n\u001B[0;32m    634\u001B[0m \u001B[38;5;66;03m# inner_term @ K_gradient, we don't explicitly compute the\u001B[39;00m\n\u001B[0;32m    635\u001B[0m \u001B[38;5;66;03m# matrix-by-matrix operation and instead use an einsum. Therefore\u001B[39;00m\n\u001B[1;32m   (...)\u001B[0m\n\u001B[0;32m    641\u001B[0m \u001B[38;5;66;03m#             K_gradient[..., param_idx]\u001B[39;00m\n\u001B[0;32m    642\u001B[0m \u001B[38;5;66;03m#         )\u001B[39;00m\n\u001B[1;32m--> 643\u001B[0m log_likelihood_gradient_dims \u001B[38;5;241m=\u001B[39m \u001B[38;5;241m0.5\u001B[39m \u001B[38;5;241m*\u001B[39m np\u001B[38;5;241m.\u001B[39meinsum(\n\u001B[0;32m    644\u001B[0m     \u001B[38;5;124m\"\u001B[39m\u001B[38;5;124mijl,jik->kl\u001B[39m\u001B[38;5;124m\"\u001B[39m, inner_term, K_gradient\n\u001B[0;32m    645\u001B[0m )\n\u001B[0;32m    646\u001B[0m \u001B[38;5;66;03m# the log likehood gradient is the sum-up across the outputs\u001B[39;00m\n\u001B[0;32m    647\u001B[0m log_likelihood_gradient \u001B[38;5;241m=\u001B[39m log_likelihood_gradient_dims\u001B[38;5;241m.\u001B[39msum(axis\u001B[38;5;241m=\u001B[39m\u001B[38;5;241m-\u001B[39m\u001B[38;5;241m1\u001B[39m)\n",
      "File \u001B[1;32m~\\miniconda3\\envs\\magisterka\\Lib\\site-packages\\numpy\\core\\einsumfunc.py:1001\u001B[0m, in \u001B[0;36m_einsum_dispatcher\u001B[1;34m(out, optimize, *operands, **kwargs)\u001B[0m\n\u001B[0;32m    997\u001B[0m     path \u001B[38;5;241m=\u001B[39m [\u001B[38;5;124m'\u001B[39m\u001B[38;5;124meinsum_path\u001B[39m\u001B[38;5;124m'\u001B[39m] \u001B[38;5;241m+\u001B[39m path\n\u001B[0;32m    998\u001B[0m     \u001B[38;5;28;01mreturn\u001B[39;00m (path, path_print)\n\u001B[1;32m-> 1001\u001B[0m \u001B[38;5;28;01mdef\u001B[39;00m \u001B[38;5;21m_einsum_dispatcher\u001B[39m(\u001B[38;5;241m*\u001B[39moperands, out\u001B[38;5;241m=\u001B[39m\u001B[38;5;28;01mNone\u001B[39;00m, optimize\u001B[38;5;241m=\u001B[39m\u001B[38;5;28;01mNone\u001B[39;00m, \u001B[38;5;241m*\u001B[39m\u001B[38;5;241m*\u001B[39mkwargs):\n\u001B[0;32m   1002\u001B[0m     \u001B[38;5;66;03m# Arguably we dispatch on more arguments than we really should; see note in\u001B[39;00m\n\u001B[0;32m   1003\u001B[0m     \u001B[38;5;66;03m# _einsum_path_dispatcher for why.\u001B[39;00m\n\u001B[0;32m   1004\u001B[0m     \u001B[38;5;28;01myield from\u001B[39;00m operands\n\u001B[0;32m   1005\u001B[0m     \u001B[38;5;28;01myield\u001B[39;00m out\n",
      "\u001B[1;31mKeyboardInterrupt\u001B[0m: "
     ]
    }
   ],
   "source": [
    "for problem_size in [2, 3, 4]:\n",
    "    for problem_domain in problem_domains[problem_size]:\n",
    "        for solver in [\"weighted_rff\", \"weighted_rff_ts\", \"weighted_rff_pca\", \"weighted_rff_ts_pca\", \"ucb\"]:\n",
    "            print(problem_size, problem_domain, solver)\n",
    "            for i in range(total_runs):\n",
    "                \n",
    "                problem = ExampleProblemXGBoost(problem_size)\n",
    "                init_points = problem_size\n",
    "                \n",
    "                settings = RffWeightedGPExperimentSetting(BETA=np.sqrt(2))\n",
    "                if solver == \"weighted_rff_pca\" or solver == \"weighted_rff_ts_pca\":\n",
    "                    settings = get_rff_vectors(settings, 2)\n",
    "                else:\n",
    "                    settings = get_rff_vectors(settings, len(example_problem.get_bounds()))\n",
    "                    \n",
    "                for estimate_function in [\"normal\", \"quantum\"]:\n",
    "                    file_name = f\"results/{solver}_{problem_size}_{estimate_function}_{i}_{pd.Timestamp.now().date()}.pkl\"\n",
    "                    \n",
    "                    optimizer = QBO(num_iter=num_iter, estimate_function=estimate_function, solver_instance=solver,\n",
    "                                        experiment_settings=settings, )\n",
    "                    optimizer.find_maximum(example_problem.reward_function, example_problem.get_bounds())\n",
    "                    results = {\n",
    "                            'predicted_values': optimizer.results['history']['predicted_values'],\n",
    "                            'calls': optimizer.history_quantum,\n",
    "                            'best': optimizer.results['best'],\n",
    "                            'time': optimizer.solver.fit_time_history,\n",
    "                            'settings': settings.model_dump(),\n",
    "                            'history_parameters': optimizer.results['history']['parameters'],\n",
    "                            'problem': optimizer.solver.problem,\n",
    "                        }\n",
    "                    with open(file_name, 'wb') as handle:\n",
    "                        pickle.dump(results, handle, protocol=pickle.HIGHEST_PROTOCOL)\n",
    "\n",
    "# for domain_size, domain in list(sizes_4.items()):\n",
    "#     print(domain_size)\n",
    "#     for solver in [\"weighted_rff_ts_pca\"]:\n",
    "#         for rff_normalized in [False]:\n",
    "#             for num_qu in [6]:\n",
    "#                 for i in range(total_runs):\n",
    "#                     settings = RffWeightedGPExperimentSetting()\n",
    "# \n",
    "#                     if solver == \"weighted_rff_pca\" or solver == \"weighted_rff_ts_pca\":\n",
    "#                         settings = get_rff_vectors(settings, 2)\n",
    "#                     else:\n",
    "#                         settings = get_rff_vectors(settings, len(example_problem.get_bounds()))\n",
    "# \n",
    "#                     for estimate_function in [\"normal\", \"quantum\"]:\n",
    "#                         file_name = f\"results/{solver}_{domain_size}_{estimate_function}_{i}_{pd.Timestamp.now().date()}.pkl\"\n",
    "# \n",
    "#                         if estimate_function == \"quantum_noise\":\n",
    "#                             settings.QUANTUM_NOISE = True\n",
    "#                             estimate_function = \"quantum\"\n",
    "#                         else:\n",
    "#                             settings.QUANTUM_NOISE = False\n",
    "# \n",
    "#                         optimizer = QBO(num_iter=num_iter, estimate_function=estimate_function, solver_instance=solver,\n",
    "#                                         experiment_settings=settings, )\n",
    "#                         optimizer.find_maximum(example_problem.reward_function, example_problem.get_bounds())\n",
    "#                         \n"
   ],
   "metadata": {
    "collapsed": false,
    "ExecuteTime": {
     "end_time": "2024-05-18T17:29:27.443684Z",
     "start_time": "2024-05-18T15:00:15.973866Z"
    }
   },
   "id": "451667eb16e3967c",
   "execution_count": 17
  },
  {
   "cell_type": "code",
   "outputs": [
    {
     "data": {
      "text/plain": "(0, 0, 0)"
     },
     "execution_count": 14,
     "metadata": {},
     "output_type": "execute_result"
    }
   ],
   "source": [
    "x = np.array(optimizer.solver.X)\n",
    "x_t = np.array(optimizer.solver.X_transformed)\n",
    "y = np.array(optimizer.solver.y)\n",
    "np.count_nonzero(np.isnan(x)), np.count_nonzero(np.isnan(y)), np.count_nonzero(np.isnan(x_t))"
   ],
   "metadata": {
    "collapsed": false,
    "ExecuteTime": {
     "end_time": "2024-05-16T11:27:11.309141Z",
     "start_time": "2024-05-16T11:27:11.296004Z"
    }
   },
   "id": "82dbbe98edaa5bc5",
   "execution_count": 14
  },
  {
   "cell_type": "code",
   "outputs": [
    {
     "data": {
      "text/plain": "0.0"
     },
     "execution_count": 11,
     "metadata": {},
     "output_type": "execute_result"
    }
   ],
   "source": [
    "optimizer.solver.weights[-1]\n"
   ],
   "metadata": {
    "collapsed": false,
    "ExecuteTime": {
     "end_time": "2024-05-16T12:59:03.589690Z",
     "start_time": "2024-05-16T12:59:03.582149Z"
    }
   },
   "id": "455de17a4e5e54d2",
   "execution_count": 11
  },
  {
   "cell_type": "code",
   "outputs": [
    {
     "data": {
      "text/plain": "array([1.00000000e+00, 1.00000000e+00, 1.00000000e+00, ...,\n       2.81051749e-08, 3.68222194e-08, 0.00000000e+00])"
     },
     "execution_count": 16,
     "metadata": {},
     "output_type": "execute_result"
    }
   ],
   "source": [
    "phi = optimizer.solver.weights\n",
    "phi"
   ],
   "metadata": {
    "collapsed": false,
    "ExecuteTime": {
     "end_time": "2024-05-16T11:27:23.693271Z",
     "start_time": "2024-05-16T11:27:23.684595Z"
    }
   },
   "id": "bc138d3b60948c72",
   "execution_count": 16
  },
  {
   "cell_type": "code",
   "outputs": [],
   "source": [
    "optimizer.solver.phi_normalized = True"
   ],
   "metadata": {
    "collapsed": false,
    "ExecuteTime": {
     "end_time": "2024-05-16T08:17:49.652537Z",
     "start_time": "2024-05-16T08:17:49.648669Z"
    }
   },
   "id": "78b5e63fa297d7e2",
   "execution_count": 30
  },
  {
   "cell_type": "code",
   "outputs": [
    {
     "data": {
      "text/plain": "(3951,)"
     },
     "execution_count": 31,
     "metadata": {},
     "output_type": "execute_result"
    }
   ],
   "source": [
    "y.shape"
   ],
   "metadata": {
    "collapsed": false,
    "ExecuteTime": {
     "end_time": "2024-05-15T18:02:18.452022Z",
     "start_time": "2024-05-15T18:02:18.446658Z"
    }
   },
   "id": "5d13c7e094d22f92",
   "execution_count": 31
  },
  {
   "cell_type": "code",
   "outputs": [],
   "source": [],
   "metadata": {
    "collapsed": false
   },
   "id": "b5bd6984a2fe3abd"
  },
  {
   "cell_type": "code",
   "outputs": [],
   "source": [],
   "metadata": {
    "collapsed": false
   },
   "id": "5dca6553dac314a4"
  },
  {
   "cell_type": "code",
   "outputs": [],
   "source": [
    "from solvers import RffWeightedGPSolver\n",
    "from solvers.settings import RffWeightedGPExperimentSetting\n",
    "import numpy as np\n",
    "\n",
    "settings = RffWeightedGPExperimentSetting()\n",
    "\n",
    "solver = RffWeightedGPSolver(2, [[np.array([2, 3]), np.array([0.1, 0.2])], [1, 2]], settings)"
   ],
   "metadata": {
    "collapsed": false,
    "ExecuteTime": {
     "end_time": "2024-05-17T16:33:43.585536Z",
     "start_time": "2024-05-17T16:33:42.364839Z"
    }
   },
   "id": "fe0777c86d43da0c",
   "execution_count": 1
  },
  {
   "cell_type": "code",
   "outputs": [],
   "source": [
    "solver.fit()\n"
   ],
   "metadata": {
    "collapsed": false,
    "ExecuteTime": {
     "end_time": "2024-05-17T16:33:44.369304Z",
     "start_time": "2024-05-17T16:33:43.587540Z"
    }
   },
   "id": "46bc23a1766847df",
   "execution_count": 2
  },
  {
   "cell_type": "code",
   "outputs": [
    {
     "name": "stdout",
     "output_type": "stream",
     "text": [
      "False 1.1551689963433782 0.6007093323573268 [0.17171717 0.22222222]\n"
     ]
    },
    {
     "data": {
      "text/plain": "array([0.17171717, 0.22222222])"
     },
     "execution_count": 3,
     "metadata": {},
     "output_type": "execute_result"
    }
   ],
   "source": [
    "solver.best_point()"
   ],
   "metadata": {
    "collapsed": false,
    "ExecuteTime": {
     "end_time": "2024-05-17T16:33:44.408968Z",
     "start_time": "2024-05-17T16:33:44.371308Z"
    }
   },
   "id": "ea5ec2eab52aacfe",
   "execution_count": 3
  },
  {
   "cell_type": "code",
   "outputs": [],
   "source": [],
   "metadata": {
    "collapsed": false
   },
   "id": "af8580fafe3689cc"
  }
 ],
 "metadata": {
  "kernelspec": {
   "display_name": "Python 3",
   "language": "python",
   "name": "python3"
  },
  "language_info": {
   "codemirror_mode": {
    "name": "ipython",
    "version": 2
   },
   "file_extension": ".py",
   "mimetype": "text/x-python",
   "name": "python",
   "nbconvert_exporter": "python",
   "pygments_lexer": "ipython2",
   "version": "2.7.6"
  }
 },
 "nbformat": 4,
 "nbformat_minor": 5
}
